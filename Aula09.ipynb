{
 "cells": [
  {
   "attachments": {},
   "cell_type": "markdown",
   "metadata": {},
   "source": [
    "### List Comprehension em Python"
   ]
  },
  {
   "cell_type": "code",
   "execution_count": 1,
   "metadata": {},
   "outputs": [],
   "source": [
    "kmh=[40,50,56,64,73,79,85,96,100,120]"
   ]
  },
  {
   "cell_type": "code",
   "execution_count": 3,
   "metadata": {},
   "outputs": [
    {
     "name": "stdout",
     "output_type": "stream",
     "text": [
      "24.84\n",
      "31.06\n",
      "34.78\n",
      "39.75\n",
      "45.34\n",
      "49.07\n",
      "52.8\n",
      "59.63\n",
      "62.11\n",
      "74.53\n"
     ]
    }
   ],
   "source": [
    "mph = [round(x/1.61,2) for x in kmh]\n",
    "for i in mph:\n",
    "    print(i)"
   ]
  },
  {
   "cell_type": "code",
   "execution_count": 4,
   "metadata": {},
   "outputs": [],
   "source": [
    "caracteres = [i for i in 'Gustavo Ferreira']"
   ]
  },
  {
   "cell_type": "code",
   "execution_count": 5,
   "metadata": {},
   "outputs": [
    {
     "name": "stdout",
     "output_type": "stream",
     "text": [
      "['G', 'u', 's', 't', 'a', 'v', 'o', ' ', 'F', 'e', 'r', 'r', 'e', 'i', 'r', 'a']\n"
     ]
    }
   ],
   "source": [
    "print(caracteres)"
   ]
  }
 ],
 "metadata": {
  "kernelspec": {
   "display_name": "Python 3",
   "language": "python",
   "name": "python3"
  },
  "language_info": {
   "codemirror_mode": {
    "name": "ipython",
    "version": 3
   },
   "file_extension": ".py",
   "mimetype": "text/x-python",
   "name": "python",
   "nbconvert_exporter": "python",
   "pygments_lexer": "ipython3",
   "version": "3.11.1"
  },
  "orig_nbformat": 4,
  "vscode": {
   "interpreter": {
    "hash": "0a6ed44e24123a8c6b1b92098e9f94359b98f847568d595ab14851bfbb51b5a9"
   }
  }
 },
 "nbformat": 4,
 "nbformat_minor": 2
}
